{
  "cells": [
    {
      "cell_type": "markdown",
      "metadata": {
        "id": "view-in-github",
        "colab_type": "text"
      },
      "source": [
        "<a href=\"https://colab.research.google.com/github/QaziSaim/Fine-Tune-Projects/blob/main/Bahdanau_Attention_Mechenisum.ipynb\" target=\"_parent\"><img src=\"https://colab.research.google.com/assets/colab-badge.svg\" alt=\"Open In Colab\"/></a>"
      ]
    },
    {
      "cell_type": "markdown",
      "metadata": {
        "id": "D9ONGvHuaSwQ"
      },
      "source": [
        "## Luckly I already had saved my tokenizer now i am going to load it"
      ]
    },
    {
      "cell_type": "code",
      "execution_count": 1,
      "metadata": {
        "id": "x3Ho0k3dIH-B"
      },
      "outputs": [],
      "source": [
        "import numpy as np\n",
        "import pandas as pd\n",
        "import tensorflow\n",
        "import re\n",
        "import string\n",
        "from sklearn.model_selection import train_test_split\n",
        "from tensorflow.keras.preprocessing.text import Tokenizer\n",
        "from tensorflow.keras.preprocessing.sequence import pad_sequences\n",
        "from tensorflow.keras.models import Model\n",
        "from tensorflow.keras.layers import Input, LSTM, Embedding, Dense, Layer\n",
        "from sklearn.model_selection import train_test_split"
      ]
    },
    {
      "cell_type": "code",
      "execution_count": 2,
      "metadata": {
        "id": "mryvh0jKIPsa"
      },
      "outputs": [],
      "source": [
        "df = pd.read_csv('https://github.com/QaziSaim/Fine-Tune-Projects/raw/refs/heads/main/Encoder-Decoder-Machine-Translation/eng_to_fra.csv')"
      ]
    },
    {
      "cell_type": "code",
      "source": [
        "df = df.iloc[:15000]"
      ],
      "metadata": {
        "id": "FZTlKSPgfVJH"
      },
      "execution_count": 3,
      "outputs": []
    },
    {
      "cell_type": "code",
      "execution_count": 4,
      "metadata": {
        "colab": {
          "base_uri": "https://localhost:8080/"
        },
        "id": "vUm8Nj5WtjML",
        "outputId": "55d70677-2bda-405f-c4ba-1009f3f17589"
      },
      "outputs": [
        {
          "output_type": "execute_result",
          "data": {
            "text/plain": [
              "(15000, 2)"
            ]
          },
          "metadata": {},
          "execution_count": 4
        }
      ],
      "source": [
        "df.shape"
      ]
    },
    {
      "cell_type": "code",
      "execution_count": 5,
      "metadata": {
        "colab": {
          "base_uri": "https://localhost:8080/",
          "height": 147
        },
        "id": "akhOMrMItm7_",
        "outputId": "01946df3-6f2a-4a16-857f-6e6cce277eab"
      },
      "outputs": [
        {
          "output_type": "execute_result",
          "data": {
            "text/plain": [
              "eng_texts    0\n",
              "fra_texts    0\n",
              "dtype: int64"
            ],
            "text/html": [
              "<div>\n",
              "<style scoped>\n",
              "    .dataframe tbody tr th:only-of-type {\n",
              "        vertical-align: middle;\n",
              "    }\n",
              "\n",
              "    .dataframe tbody tr th {\n",
              "        vertical-align: top;\n",
              "    }\n",
              "\n",
              "    .dataframe thead th {\n",
              "        text-align: right;\n",
              "    }\n",
              "</style>\n",
              "<table border=\"1\" class=\"dataframe\">\n",
              "  <thead>\n",
              "    <tr style=\"text-align: right;\">\n",
              "      <th></th>\n",
              "      <th>0</th>\n",
              "    </tr>\n",
              "  </thead>\n",
              "  <tbody>\n",
              "    <tr>\n",
              "      <th>eng_texts</th>\n",
              "      <td>0</td>\n",
              "    </tr>\n",
              "    <tr>\n",
              "      <th>fra_texts</th>\n",
              "      <td>0</td>\n",
              "    </tr>\n",
              "  </tbody>\n",
              "</table>\n",
              "</div><br><label><b>dtype:</b> int64</label>"
            ]
          },
          "metadata": {},
          "execution_count": 5
        }
      ],
      "source": [
        "df.isnull().sum()"
      ]
    },
    {
      "cell_type": "code",
      "execution_count": 6,
      "metadata": {
        "id": "h42_iX1yIYrn"
      },
      "outputs": [],
      "source": [
        "eng_tokenizer = Tokenizer(filters='',lower=True,oov_token='<oov>')\n",
        "eng_tokenizer.fit_on_texts(df.eng_texts)\n",
        "eng_sequence = eng_tokenizer.texts_to_sequences(df.eng_texts)"
      ]
    },
    {
      "cell_type": "code",
      "execution_count": 7,
      "metadata": {
        "id": "n_1QAzleI0JK"
      },
      "outputs": [],
      "source": [
        "fra_tokenizer = Tokenizer(filters='',lower=True,oov_token='<oov>')\n",
        "fra_tokenizer.fit_on_texts(df.fra_texts)\n",
        "fra_sequence = fra_tokenizer.texts_to_sequences(df.fra_texts)"
      ]
    },
    {
      "cell_type": "code",
      "execution_count": 8,
      "metadata": {
        "id": "xwkLA_jVJIuu"
      },
      "outputs": [],
      "source": [
        "eng_vocab_size = len(eng_tokenizer.word_index) +1\n",
        "fra_vocab_size = len(fra_tokenizer.word_index) + 1\n"
      ]
    },
    {
      "cell_type": "code",
      "execution_count": 9,
      "metadata": {
        "id": "NyswjXAyJgzH"
      },
      "outputs": [],
      "source": [
        "max_eng_len = max(len(x) for x in eng_sequence)\n",
        "max_fra_len = max(len(x) for x in fra_sequence)"
      ]
    },
    {
      "cell_type": "code",
      "execution_count": 10,
      "metadata": {
        "id": "N1VFzt2QJu_0"
      },
      "outputs": [],
      "source": [
        "encoder_input = pad_sequences(eng_sequence, maxlen=max_eng_len, padding='post')\n",
        "decoder_input = pad_sequences([s[:-1] for s in fra_sequence],maxlen=max_fra_len-1,padding='post')\n",
        "decoder_target = pad_sequences([s[1:] for s in fra_sequence],maxlen=max_fra_len-1,padding='post')"
      ]
    },
    {
      "cell_type": "code",
      "source": [
        "X_train_enc, X_val_enc, X_train_dec, X_val_dec, y_train, y_val = train_test_split(\n",
        "    encoder_input, decoder_input, decoder_target, test_size=0.1, random_state=42\n",
        ")"
      ],
      "metadata": {
        "id": "p72dQRD0gkZv"
      },
      "execution_count": 11,
      "outputs": []
    },
    {
      "cell_type": "code",
      "execution_count": 12,
      "metadata": {
        "id": "Yhco1oE1Jw5U"
      },
      "outputs": [],
      "source": [
        "vocab_input_size = len(eng_tokenizer.word_index) + 1\n",
        "vocab_target_size = len(fra_tokenizer.word_index) + 1"
      ]
    },
    {
      "cell_type": "code",
      "execution_count": 13,
      "metadata": {
        "id": "327YTc2OjXjv"
      },
      "outputs": [],
      "source": [
        "embedding_dim = 128\n",
        "units = 256\n",
        "batch = 16\n",
        "EPOCHES = 50"
      ]
    },
    {
      "cell_type": "code",
      "execution_count": 14,
      "metadata": {
        "id": "axmda0-JJClF"
      },
      "outputs": [],
      "source": [
        "# tensorflow.config.run_functions_eagerly(True)"
      ]
    },
    {
      "cell_type": "code",
      "execution_count": 15,
      "metadata": {
        "id": "h56psyRojleO"
      },
      "outputs": [],
      "source": [
        "class BahdanauAttetion(Layer):\n",
        "  def __init__(self,units):\n",
        "    super().__init__()\n",
        "    self.w1 =  Dense(units)\n",
        "    self.w2 = Dense(units)\n",
        "    self.V = Dense(1)\n",
        "\n",
        "  def call(self,query,value):\n",
        "    query_with_time_axis = tensorflow.expand_dims(query, 1)\n",
        "    score = self.V(tensorflow.nn.tanh(self.w1(value) + self.w2(query_with_time_axis)))\n",
        "    attention_weights = tensorflow.nn.softmax(score, axis=1)\n",
        "    context_vector = tensorflow.reduce_sum(attention_weights * value, axis=1)\n",
        "    return context_vector, tensorflow.squeeze(attention_weights, -1)\n"
      ]
    },
    {
      "cell_type": "code",
      "execution_count": 16,
      "metadata": {
        "id": "82NZU1kXkcH5"
      },
      "outputs": [],
      "source": [
        "from tensorflow.keras.saving import register_keras_serializable\n",
        "\n",
        "@register_keras_serializable(package=\"CustomModels\")\n",
        "\n",
        "class Encoder(Model):\n",
        "  def __init__(self, vocab_size, embedding_dim, enc_units):\n",
        "    super().__init__()\n",
        "    self.enc_units = enc_units\n",
        "    self.embedding = Embedding(vocab_size,embedding_dim)\n",
        "    self.lstm = LSTM(enc_units, return_sequences=True, return_state=True)\n",
        "\n",
        "  def call(self, x):\n",
        "    x = self.embedding(x)\n",
        "    output, state_h, state_c = self.lstm(x)\n",
        "    return output, state_h, state_c\n"
      ]
    },
    {
      "cell_type": "code",
      "execution_count": 17,
      "metadata": {
        "id": "yg97kl0Bqsp1"
      },
      "outputs": [],
      "source": [
        "@register_keras_serializable(package=\"CustomModels\")\n",
        "class Decoder(Model):\n",
        "    def __init__(self, vocab_size, embedding_dim, dec_units):\n",
        "        super().__init__()\n",
        "        self.dec_units = dec_units\n",
        "        self.embedding = Embedding(vocab_size, embedding_dim)\n",
        "        self.attention = BahdanauAttetion(dec_units)   # keep your attention class name\n",
        "        self.cell = tensorflow.keras.layers.LSTMCell(dec_units)\n",
        "        self.fc = Dense(vocab_size)\n",
        "\n",
        "    def call(self, dec_input, enc_output, initial_state):\n",
        "        \"\"\"\n",
        "        dec_input: (batch, dec_seq_len)  -- teacher forcing input during training or single-step during inference\n",
        "        enc_output: (batch, enc_seq_len, enc_units)\n",
        "        initial_state: tuple (h, c)  each (batch, dec_units)\n",
        "        Returns:\n",
        "            logits_seq: (batch, dec_seq_len, vocab_size)\n",
        "            states: tuple (h, c)\n",
        "            attention_history: (batch, dec_seq_len, enc_seq_len)\n",
        "        \"\"\"\n",
        "        # embeddings -> (batch, dec_seq_len, emb_dim)\n",
        "        embeddings = self.embedding(dec_input)\n",
        "\n",
        "        # dynamic lengths (tensors)\n",
        "        dec_seq_len = tensorflow.shape(dec_input)[1]\n",
        "\n",
        "        # prepare TensorArrays for outputs & attention history (write per timestep)\n",
        "        outputs_ta = tensorflow.TensorArray(dtype=tensorflow.float32, size=0, dynamic_size=True)\n",
        "        attn_ta = tensorflow.TensorArray(dtype=tensorflow.float32, size=0, dynamic_size=True)\n",
        "\n",
        "        # ensure initial_state is a tuple (h, c)\n",
        "        init_h, init_c = initial_state\n",
        "        # Use a LIST for states inside while_loop to keep structure stable across iterations\n",
        "        states_list = [init_h, init_c]\n",
        "\n",
        "        # step function for tf.while_loop\n",
        "        def step(t, states_list, outputs_ta, attn_ta):\n",
        "            # states_list is a list [h, c]\n",
        "            h = states_list[0]\n",
        "            c = states_list[1]\n",
        "\n",
        "            # get t-th embedding: (batch, emb_dim)\n",
        "            x_t = embeddings[:, t, :]\n",
        "\n",
        "            # compute attention using current hidden state h\n",
        "            context_vector, attn_weight = self.attention(h, enc_output)  # context: (batch, dec_units), attn_weight: (batch, enc_seq_len)\n",
        "\n",
        "            # concat input & context -> (batch, emb_dim + dec_units)\n",
        "            x_and_context = tensorflow.concat([x_t, context_vector], axis=-1)\n",
        "\n",
        "            # LSTMCell expects a tuple of states\n",
        "            output, new_states = self.cell(x_and_context, (h, c))\n",
        "            new_h, new_c = new_states\n",
        "\n",
        "            # project to vocabulary logits\n",
        "            logits = self.fc(output)  # (batch, vocab_size)\n",
        "\n",
        "            # write logits & attention to TensorArrays (indexed by timestep)\n",
        "            outputs_ta = outputs_ta.write(t, logits)\n",
        "            attn_ta = attn_ta.write(t, attn_weight)\n",
        "\n",
        "            # pack new states as list for the next iteration\n",
        "            new_states_list = [new_h, new_c]\n",
        "\n",
        "            return t + 1, new_states_list, outputs_ta, attn_ta\n",
        "\n",
        "        # while loop condition\n",
        "        t0 = tensorflow.constant(0)\n",
        "        cond = lambda t, *_: t < dec_seq_len\n",
        "\n",
        "        # run the loop\n",
        "        _, final_states_list, outputs_ta, attn_ta = tensorflow.while_loop(\n",
        "            cond,\n",
        "            step,\n",
        "            loop_vars=[t0, states_list, outputs_ta, attn_ta],\n",
        "            shape_invariants=[\n",
        "                t0.get_shape(),\n",
        "                [tensorflow.TensorShape([None, self.dec_units]), tensorflow.TensorShape([None, self.dec_units])],\n",
        "                tensorflow.TensorShape(None),\n",
        "                tensorflow.TensorShape(None),\n",
        "            ]\n",
        "        )\n",
        "\n",
        "        # stack results: outputs_ta.stack() -> (dec_seq_len, batch, vocab)\n",
        "        logits_stacked = outputs_ta.stack()\n",
        "        attn_stacked = attn_ta.stack()\n",
        "\n",
        "        # transpose to (batch, dec_seq_len, ...)\n",
        "        logits_seq = tensorflow.transpose(logits_stacked, perm=[1, 0, 2])\n",
        "        attention_history = tensorflow.transpose(attn_stacked, perm=[1, 0, 2])\n",
        "\n",
        "        # convert final states back to tuple (h, c)\n",
        "        final_h = final_states_list[0]\n",
        "        final_c = final_states_list[1]\n",
        "        final_states = (final_h, final_c)\n",
        "\n",
        "        return logits_seq, final_states, attention_history\n"
      ]
    },
    {
      "cell_type": "code",
      "execution_count": 18,
      "metadata": {
        "id": "QhyWu8R9tlFc"
      },
      "outputs": [],
      "source": [
        "class Seq2Seq(Model):\n",
        "  def __init__(self, encoder,decoder):\n",
        "    super().__init__()\n",
        "    self.encoder = encoder\n",
        "    self.decoder = decoder\n",
        "\n",
        "  def call(self, inputs):\n",
        "    enc_in, dec_in = inputs\n",
        "\n",
        "    enc_output,enc_h,enc_c = self.encoder(enc_in)\n",
        "    logits, _, attn = self.decoder(dec_in, enc_output, (enc_h, enc_c))\n",
        "    return logits\n"
      ]
    },
    {
      "cell_type": "code",
      "execution_count": 19,
      "metadata": {
        "id": "vy6RhqwzulMc"
      },
      "outputs": [],
      "source": [
        "encoder = Encoder(vocab_input_size, embedding_dim, units)\n",
        "decoder = Decoder(vocab_target_size, embedding_dim, units)\n",
        "model = Seq2Seq(encoder,decoder)"
      ]
    },
    {
      "cell_type": "code",
      "source": [],
      "metadata": {
        "id": "4DESrVETgaVU"
      },
      "execution_count": 19,
      "outputs": []
    },
    {
      "cell_type": "code",
      "execution_count": 20,
      "metadata": {
        "id": "0jpOuKZAu720"
      },
      "outputs": [],
      "source": [
        "loss_object = tensorflow.keras.losses.SparseCategoricalCrossentropy(from_logits=True, reduction='none')"
      ]
    },
    {
      "cell_type": "code",
      "execution_count": 21,
      "metadata": {
        "id": "XRfTLWugvIKH"
      },
      "outputs": [],
      "source": [
        "def loss_function(real, pred):\n",
        "  mask = tensorflow.cast(tensorflow.not_equal(real, 0), dtype=tensorflow.float32)\n",
        "  loss_ = loss_object(real, pred)\n",
        "  loss_ *= mask\n",
        "  return tensorflow.reduce_sum(loss_) / (tensorflow.reduce_sum(mask) + 1e-9)"
      ]
    },
    {
      "cell_type": "code",
      "execution_count": 22,
      "metadata": {
        "id": "k3g6ppe3v5BD"
      },
      "outputs": [],
      "source": [
        "model.compile(optimizer='adam',loss=loss_function, metrics=['accuracy'])"
      ]
    },
    {
      "cell_type": "code",
      "execution_count": 23,
      "metadata": {
        "id": "ln8lYX71EEle"
      },
      "outputs": [],
      "source": [
        "encoder_input = np.array(encoder_input)\n",
        "decoder_input = np.array(decoder_input)\n",
        "decoder_target = np.array(decoder_target)"
      ]
    },
    {
      "cell_type": "code",
      "execution_count": 24,
      "metadata": {
        "colab": {
          "base_uri": "https://localhost:8080/",
          "height": 193
        },
        "id": "1_pDdW85wCOC",
        "outputId": "2934aee9-81b1-4435-f823-993606017ae0"
      },
      "outputs": [
        {
          "output_type": "display_data",
          "data": {
            "text/plain": [
              "\u001b[1mModel: \"seq2_seq\"\u001b[0m\n"
            ],
            "text/html": [
              "<pre style=\"white-space:pre;overflow-x:auto;line-height:normal;font-family:Menlo,'DejaVu Sans Mono',consolas,'Courier New',monospace\"><span style=\"font-weight: bold\">Model: \"seq2_seq\"</span>\n",
              "</pre>\n"
            ]
          },
          "metadata": {}
        },
        {
          "output_type": "display_data",
          "data": {
            "text/plain": [
              "┏━━━━━━━━━━━━━━━━━━━━━━━━━━━━━━━━━┳━━━━━━━━━━━━━━━━━━━━━━━━┳━━━━━━━━━━━━━━━┓\n",
              "┃\u001b[1m \u001b[0m\u001b[1mLayer (type)                   \u001b[0m\u001b[1m \u001b[0m┃\u001b[1m \u001b[0m\u001b[1mOutput Shape          \u001b[0m\u001b[1m \u001b[0m┃\u001b[1m \u001b[0m\u001b[1m      Param #\u001b[0m\u001b[1m \u001b[0m┃\n",
              "┡━━━━━━━━━━━━━━━━━━━━━━━━━━━━━━━━━╇━━━━━━━━━━━━━━━━━━━━━━━━╇━━━━━━━━━━━━━━━┩\n",
              "│ encoder (\u001b[38;5;33mEncoder\u001b[0m)               │ ?                      │   \u001b[38;5;34m0\u001b[0m (unbuilt) │\n",
              "├─────────────────────────────────┼────────────────────────┼───────────────┤\n",
              "│ decoder (\u001b[38;5;33mDecoder\u001b[0m)               │ ?                      │   \u001b[38;5;34m0\u001b[0m (unbuilt) │\n",
              "└─────────────────────────────────┴────────────────────────┴───────────────┘\n"
            ],
            "text/html": [
              "<pre style=\"white-space:pre;overflow-x:auto;line-height:normal;font-family:Menlo,'DejaVu Sans Mono',consolas,'Courier New',monospace\">┏━━━━━━━━━━━━━━━━━━━━━━━━━━━━━━━━━┳━━━━━━━━━━━━━━━━━━━━━━━━┳━━━━━━━━━━━━━━━┓\n",
              "┃<span style=\"font-weight: bold\"> Layer (type)                    </span>┃<span style=\"font-weight: bold\"> Output Shape           </span>┃<span style=\"font-weight: bold\">       Param # </span>┃\n",
              "┡━━━━━━━━━━━━━━━━━━━━━━━━━━━━━━━━━╇━━━━━━━━━━━━━━━━━━━━━━━━╇━━━━━━━━━━━━━━━┩\n",
              "│ encoder (<span style=\"color: #0087ff; text-decoration-color: #0087ff\">Encoder</span>)               │ ?                      │   <span style=\"color: #00af00; text-decoration-color: #00af00\">0</span> (unbuilt) │\n",
              "├─────────────────────────────────┼────────────────────────┼───────────────┤\n",
              "│ decoder (<span style=\"color: #0087ff; text-decoration-color: #0087ff\">Decoder</span>)               │ ?                      │   <span style=\"color: #00af00; text-decoration-color: #00af00\">0</span> (unbuilt) │\n",
              "└─────────────────────────────────┴────────────────────────┴───────────────┘\n",
              "</pre>\n"
            ]
          },
          "metadata": {}
        },
        {
          "output_type": "display_data",
          "data": {
            "text/plain": [
              "\u001b[1m Total params: \u001b[0m\u001b[38;5;34m0\u001b[0m (0.00 B)\n"
            ],
            "text/html": [
              "<pre style=\"white-space:pre;overflow-x:auto;line-height:normal;font-family:Menlo,'DejaVu Sans Mono',consolas,'Courier New',monospace\"><span style=\"font-weight: bold\"> Total params: </span><span style=\"color: #00af00; text-decoration-color: #00af00\">0</span> (0.00 B)\n",
              "</pre>\n"
            ]
          },
          "metadata": {}
        },
        {
          "output_type": "display_data",
          "data": {
            "text/plain": [
              "\u001b[1m Trainable params: \u001b[0m\u001b[38;5;34m0\u001b[0m (0.00 B)\n"
            ],
            "text/html": [
              "<pre style=\"white-space:pre;overflow-x:auto;line-height:normal;font-family:Menlo,'DejaVu Sans Mono',consolas,'Courier New',monospace\"><span style=\"font-weight: bold\"> Trainable params: </span><span style=\"color: #00af00; text-decoration-color: #00af00\">0</span> (0.00 B)\n",
              "</pre>\n"
            ]
          },
          "metadata": {}
        },
        {
          "output_type": "display_data",
          "data": {
            "text/plain": [
              "\u001b[1m Non-trainable params: \u001b[0m\u001b[38;5;34m0\u001b[0m (0.00 B)\n"
            ],
            "text/html": [
              "<pre style=\"white-space:pre;overflow-x:auto;line-height:normal;font-family:Menlo,'DejaVu Sans Mono',consolas,'Courier New',monospace\"><span style=\"font-weight: bold\"> Non-trainable params: </span><span style=\"color: #00af00; text-decoration-color: #00af00\">0</span> (0.00 B)\n",
              "</pre>\n"
            ]
          },
          "metadata": {}
        }
      ],
      "source": [
        "model.summary()"
      ]
    },
    {
      "cell_type": "code",
      "source": [
        "from tensorflow.keras.callbacks import EarlyStopping\n",
        "es = EarlyStopping(monitor='val_loss',restore_best_weights=True, patience=5)"
      ],
      "metadata": {
        "id": "DAP7r_Y2obIt"
      },
      "execution_count": 25,
      "outputs": []
    },
    {
      "cell_type": "code",
      "execution_count": 26,
      "metadata": {
        "colab": {
          "base_uri": "https://localhost:8080/"
        },
        "id": "HPlsY6NzwDH5",
        "outputId": "6e9bd6b2-7b94-42b6-fe56-77b95a228789"
      },
      "outputs": [
        {
          "output_type": "stream",
          "name": "stdout",
          "text": [
            "Epoch 1/50\n",
            "\u001b[1m844/844\u001b[0m \u001b[32m━━━━━━━━━━━━━━━━━━━━\u001b[0m\u001b[37m\u001b[0m \u001b[1m46s\u001b[0m 43ms/step - accuracy: 0.0994 - loss: 5.4655 - val_accuracy: 0.1310 - val_loss: 4.2878\n",
            "Epoch 2/50\n",
            "\u001b[1m844/844\u001b[0m \u001b[32m━━━━━━━━━━━━━━━━━━━━\u001b[0m\u001b[37m\u001b[0m \u001b[1m38s\u001b[0m 45ms/step - accuracy: 0.1404 - loss: 3.8902 - val_accuracy: 0.1581 - val_loss: 3.7333\n",
            "Epoch 3/50\n",
            "\u001b[1m844/844\u001b[0m \u001b[32m━━━━━━━━━━━━━━━━━━━━\u001b[0m\u001b[37m\u001b[0m \u001b[1m36s\u001b[0m 43ms/step - accuracy: 0.1666 - loss: 3.1999 - val_accuracy: 0.1727 - val_loss: 3.4303\n",
            "Epoch 4/50\n",
            "\u001b[1m844/844\u001b[0m \u001b[32m━━━━━━━━━━━━━━━━━━━━\u001b[0m\u001b[37m\u001b[0m \u001b[1m36s\u001b[0m 42ms/step - accuracy: 0.1834 - loss: 2.7204 - val_accuracy: 0.1828 - val_loss: 3.2687\n",
            "Epoch 5/50\n",
            "\u001b[1m844/844\u001b[0m \u001b[32m━━━━━━━━━━━━━━━━━━━━\u001b[0m\u001b[37m\u001b[0m \u001b[1m36s\u001b[0m 42ms/step - accuracy: 0.1963 - loss: 2.3579 - val_accuracy: 0.1897 - val_loss: 3.1411\n",
            "Epoch 6/50\n",
            "\u001b[1m844/844\u001b[0m \u001b[32m━━━━━━━━━━━━━━━━━━━━\u001b[0m\u001b[37m\u001b[0m \u001b[1m37s\u001b[0m 44ms/step - accuracy: 0.2069 - loss: 2.0343 - val_accuracy: 0.1951 - val_loss: 3.0327\n",
            "Epoch 7/50\n",
            "\u001b[1m844/844\u001b[0m \u001b[32m━━━━━━━━━━━━━━━━━━━━\u001b[0m\u001b[37m\u001b[0m \u001b[1m36s\u001b[0m 42ms/step - accuracy: 0.2198 - loss: 1.7794 - val_accuracy: 0.1989 - val_loss: 2.9846\n",
            "Epoch 8/50\n",
            "\u001b[1m844/844\u001b[0m \u001b[32m━━━━━━━━━━━━━━━━━━━━\u001b[0m\u001b[37m\u001b[0m \u001b[1m36s\u001b[0m 42ms/step - accuracy: 0.2324 - loss: 1.5455 - val_accuracy: 0.2023 - val_loss: 2.9608\n",
            "Epoch 9/50\n",
            "\u001b[1m844/844\u001b[0m \u001b[32m━━━━━━━━━━━━━━━━━━━━\u001b[0m\u001b[37m\u001b[0m \u001b[1m36s\u001b[0m 42ms/step - accuracy: 0.2435 - loss: 1.3603 - val_accuracy: 0.2086 - val_loss: 2.9188\n",
            "Epoch 10/50\n",
            "\u001b[1m844/844\u001b[0m \u001b[32m━━━━━━━━━━━━━━━━━━━━\u001b[0m\u001b[37m\u001b[0m \u001b[1m36s\u001b[0m 43ms/step - accuracy: 0.2538 - loss: 1.1947 - val_accuracy: 0.2100 - val_loss: 2.9091\n",
            "Epoch 11/50\n",
            "\u001b[1m844/844\u001b[0m \u001b[32m━━━━━━━━━━━━━━━━━━━━\u001b[0m\u001b[37m\u001b[0m \u001b[1m36s\u001b[0m 42ms/step - accuracy: 0.2649 - loss: 1.0437 - val_accuracy: 0.2132 - val_loss: 2.9006\n",
            "Epoch 12/50\n",
            "\u001b[1m844/844\u001b[0m \u001b[32m━━━━━━━━━━━━━━━━━━━━\u001b[0m\u001b[37m\u001b[0m \u001b[1m42s\u001b[0m 43ms/step - accuracy: 0.2745 - loss: 0.9254 - val_accuracy: 0.2154 - val_loss: 2.8989\n",
            "Epoch 13/50\n",
            "\u001b[1m844/844\u001b[0m \u001b[32m━━━━━━━━━━━━━━━━━━━━\u001b[0m\u001b[37m\u001b[0m \u001b[1m36s\u001b[0m 43ms/step - accuracy: 0.2812 - loss: 0.8189 - val_accuracy: 0.2177 - val_loss: 2.9180\n",
            "Epoch 14/50\n",
            "\u001b[1m844/844\u001b[0m \u001b[32m━━━━━━━━━━━━━━━━━━━━\u001b[0m\u001b[37m\u001b[0m \u001b[1m39s\u001b[0m 46ms/step - accuracy: 0.2892 - loss: 0.7229 - val_accuracy: 0.2190 - val_loss: 2.9194\n",
            "Epoch 15/50\n",
            "\u001b[1m844/844\u001b[0m \u001b[32m━━━━━━━━━━━━━━━━━━━━\u001b[0m\u001b[37m\u001b[0m \u001b[1m38s\u001b[0m 45ms/step - accuracy: 0.2964 - loss: 0.6456 - val_accuracy: 0.2226 - val_loss: 2.9398\n",
            "Epoch 16/50\n",
            "\u001b[1m844/844\u001b[0m \u001b[32m━━━━━━━━━━━━━━━━━━━━\u001b[0m\u001b[37m\u001b[0m \u001b[1m37s\u001b[0m 44ms/step - accuracy: 0.3010 - loss: 0.5877 - val_accuracy: 0.2183 - val_loss: 2.9696\n",
            "Epoch 17/50\n",
            "\u001b[1m844/844\u001b[0m \u001b[32m━━━━━━━━━━━━━━━━━━━━\u001b[0m\u001b[37m\u001b[0m \u001b[1m37s\u001b[0m 44ms/step - accuracy: 0.3049 - loss: 0.5292 - val_accuracy: 0.2219 - val_loss: 2.9910\n"
          ]
        }
      ],
      "source": [
        "# model.fit([encoder_input, decoder_input],decoder_target,batch_size=batch,epochs=EPOCHES)\n",
        "history = model.fit([X_train_enc, X_train_dec], y_train, validation_data=([X_val_enc, X_val_dec], y_val),batch_size = batch, epochs=EPOCHES,callbacks=[es])"
      ]
    },
    {
      "cell_type": "code",
      "source": [],
      "metadata": {
        "id": "zvCBbPoh_u_w"
      },
      "execution_count": null,
      "outputs": []
    },
    {
      "cell_type": "code",
      "execution_count": 28,
      "metadata": {
        "id": "r9Ci_vo4DzBS",
        "colab": {
          "base_uri": "https://localhost:8080/",
          "height": 209
        },
        "outputId": "96c99813-6eeb-4c22-aec8-e28d11484f77"
      },
      "outputs": [
        {
          "output_type": "display_data",
          "data": {
            "text/plain": [
              "\u001b[1mModel: \"seq2_seq\"\u001b[0m\n"
            ],
            "text/html": [
              "<pre style=\"white-space:pre;overflow-x:auto;line-height:normal;font-family:Menlo,'DejaVu Sans Mono',consolas,'Courier New',monospace\"><span style=\"font-weight: bold\">Model: \"seq2_seq\"</span>\n",
              "</pre>\n"
            ]
          },
          "metadata": {}
        },
        {
          "output_type": "display_data",
          "data": {
            "text/plain": [
              "┏━━━━━━━━━━━━━━━━━━━━━━━━━━━━━━━━━┳━━━━━━━━━━━━━━━━━━━━━━━━┳━━━━━━━━━━━━━━━┓\n",
              "┃\u001b[1m \u001b[0m\u001b[1mLayer (type)                   \u001b[0m\u001b[1m \u001b[0m┃\u001b[1m \u001b[0m\u001b[1mOutput Shape          \u001b[0m\u001b[1m \u001b[0m┃\u001b[1m \u001b[0m\u001b[1m      Param #\u001b[0m\u001b[1m \u001b[0m┃\n",
              "┡━━━━━━━━━━━━━━━━━━━━━━━━━━━━━━━━━╇━━━━━━━━━━━━━━━━━━━━━━━━╇━━━━━━━━━━━━━━━┩\n",
              "│ encoder (\u001b[38;5;33mEncoder\u001b[0m)               │ ?                      │       \u001b[38;5;34m763,136\u001b[0m │\n",
              "├─────────────────────────────────┼────────────────────────┼───────────────┤\n",
              "│ decoder (\u001b[38;5;33mDecoder\u001b[0m)               │ ?                      │     \u001b[38;5;34m3,107,080\u001b[0m │\n",
              "└─────────────────────────────────┴────────────────────────┴───────────────┘\n"
            ],
            "text/html": [
              "<pre style=\"white-space:pre;overflow-x:auto;line-height:normal;font-family:Menlo,'DejaVu Sans Mono',consolas,'Courier New',monospace\">┏━━━━━━━━━━━━━━━━━━━━━━━━━━━━━━━━━┳━━━━━━━━━━━━━━━━━━━━━━━━┳━━━━━━━━━━━━━━━┓\n",
              "┃<span style=\"font-weight: bold\"> Layer (type)                    </span>┃<span style=\"font-weight: bold\"> Output Shape           </span>┃<span style=\"font-weight: bold\">       Param # </span>┃\n",
              "┡━━━━━━━━━━━━━━━━━━━━━━━━━━━━━━━━━╇━━━━━━━━━━━━━━━━━━━━━━━━╇━━━━━━━━━━━━━━━┩\n",
              "│ encoder (<span style=\"color: #0087ff; text-decoration-color: #0087ff\">Encoder</span>)               │ ?                      │       <span style=\"color: #00af00; text-decoration-color: #00af00\">763,136</span> │\n",
              "├─────────────────────────────────┼────────────────────────┼───────────────┤\n",
              "│ decoder (<span style=\"color: #0087ff; text-decoration-color: #0087ff\">Decoder</span>)               │ ?                      │     <span style=\"color: #00af00; text-decoration-color: #00af00\">3,107,080</span> │\n",
              "└─────────────────────────────────┴────────────────────────┴───────────────┘\n",
              "</pre>\n"
            ]
          },
          "metadata": {}
        },
        {
          "output_type": "display_data",
          "data": {
            "text/plain": [
              "\u001b[1m Total params: \u001b[0m\u001b[38;5;34m11,610,650\u001b[0m (44.29 MB)\n"
            ],
            "text/html": [
              "<pre style=\"white-space:pre;overflow-x:auto;line-height:normal;font-family:Menlo,'DejaVu Sans Mono',consolas,'Courier New',monospace\"><span style=\"font-weight: bold\"> Total params: </span><span style=\"color: #00af00; text-decoration-color: #00af00\">11,610,650</span> (44.29 MB)\n",
              "</pre>\n"
            ]
          },
          "metadata": {}
        },
        {
          "output_type": "display_data",
          "data": {
            "text/plain": [
              "\u001b[1m Trainable params: \u001b[0m\u001b[38;5;34m3,870,216\u001b[0m (14.76 MB)\n"
            ],
            "text/html": [
              "<pre style=\"white-space:pre;overflow-x:auto;line-height:normal;font-family:Menlo,'DejaVu Sans Mono',consolas,'Courier New',monospace\"><span style=\"font-weight: bold\"> Trainable params: </span><span style=\"color: #00af00; text-decoration-color: #00af00\">3,870,216</span> (14.76 MB)\n",
              "</pre>\n"
            ]
          },
          "metadata": {}
        },
        {
          "output_type": "display_data",
          "data": {
            "text/plain": [
              "\u001b[1m Non-trainable params: \u001b[0m\u001b[38;5;34m0\u001b[0m (0.00 B)\n"
            ],
            "text/html": [
              "<pre style=\"white-space:pre;overflow-x:auto;line-height:normal;font-family:Menlo,'DejaVu Sans Mono',consolas,'Courier New',monospace\"><span style=\"font-weight: bold\"> Non-trainable params: </span><span style=\"color: #00af00; text-decoration-color: #00af00\">0</span> (0.00 B)\n",
              "</pre>\n"
            ]
          },
          "metadata": {}
        },
        {
          "output_type": "display_data",
          "data": {
            "text/plain": [
              "\u001b[1m Optimizer params: \u001b[0m\u001b[38;5;34m7,740,434\u001b[0m (29.53 MB)\n"
            ],
            "text/html": [
              "<pre style=\"white-space:pre;overflow-x:auto;line-height:normal;font-family:Menlo,'DejaVu Sans Mono',consolas,'Courier New',monospace\"><span style=\"font-weight: bold\"> Optimizer params: </span><span style=\"color: #00af00; text-decoration-color: #00af00\">7,740,434</span> (29.53 MB)\n",
              "</pre>\n"
            ]
          },
          "metadata": {}
        }
      ],
      "source": [
        "model.summary()"
      ]
    },
    {
      "cell_type": "code",
      "execution_count": 29,
      "metadata": {
        "colab": {
          "base_uri": "https://localhost:8080/"
        },
        "id": "1SG2bkIfc2Yu",
        "outputId": "6eb93dfb-a621-475a-8a7e-9c3ea384a2d4"
      },
      "outputs": [
        {
          "output_type": "stream",
          "name": "stdout",
          "text": [
            "\u001b[1m47/47\u001b[0m \u001b[32m━━━━━━━━━━━━━━━━━━━━\u001b[0m\u001b[37m\u001b[0m \u001b[1m1s\u001b[0m 13ms/step - accuracy: 0.2198 - loss: 2.8225\n",
            "Validation Loss: 2.8976, Validation Accuracy: 0.2154\n"
          ]
        }
      ],
      "source": [
        "val_loss, val_acc = model.evaluate([X_val_enc, X_val_dec], y_val)\n",
        "print(f\"Validation Loss: {val_loss:.4f}, Validation Accuracy: {val_acc:.4f}\")"
      ]
    },
    {
      "cell_type": "code",
      "source": [
        "# history = model.fit([...])\n",
        "\n",
        "import matplotlib.pyplot as plt\n",
        "\n",
        "plt.plot(history.history['loss'], label='train_loss')\n",
        "plt.plot(history.history['val_loss'], label='val_loss')\n",
        "plt.title('Loss over Epochs')\n",
        "plt.legend()\n",
        "plt.show()\n",
        "\n",
        "plt.plot(history.history['accuracy'], label='train_acc')\n",
        "plt.plot(history.history['val_accuracy'], label='val_acc')\n",
        "plt.title('Accuracy over Epochs')\n",
        "plt.legend()\n",
        "plt.show()\n"
      ],
      "metadata": {
        "colab": {
          "base_uri": "https://localhost:8080/",
          "height": 887
        },
        "id": "y7us40mdoTng",
        "outputId": "3ac183a9-2045-4468-9cde-c1e81a2f6fa8"
      },
      "execution_count": 30,
      "outputs": [
        {
          "output_type": "display_data",
          "data": {
            "text/plain": [
              "<Figure size 640x480 with 1 Axes>"
            ],
            "image/png": "[encoded data removed]"
          },
          "metadata": {}
        },
        {
          "output_type": "display_data",
          "data": {
            "text/plain": [
              "<Figure size 640x480 with 1 Axes>"
            ],
            "image/png": "[encoded data removed]"
          },
          "metadata": {}
        }
      ]
    },
    {
      "cell_type": "code",
      "execution_count": 31,
      "metadata": {
        "id": "rrkbf5RJd1eg"
      },
      "outputs": [],
      "source": [
        "def translate(sentence):\n",
        "  seq = eng_tokenizer.texts_to_sequences([sentence.lower()])\n",
        "  seq = pad_sequences(seq, maxlen = max_eng_len,padding='post')\n",
        "  enc_output, enc_h, enc_c = encoder(seq)\n",
        "  states = (enc_h, enc_c)\n",
        "\n",
        "  start_id = fra_tokenizer.word_index.get('<start>')\n",
        "  end_id  = fra_tokenizer.word_index.get('<end>')\n",
        "  dec_input_id = np.array([[start_id]])\n",
        "\n",
        "  result_token = []\n",
        "\n",
        "  for _ in range(max_fra_len):\n",
        "    logits_seq, states, attn = decoder(dec_input_id, enc_output, states)\n",
        "\n",
        "    pred_id = tensorflow.argmax(logits_seq[:, -1, :], axis = 1).numpy()[0]\n",
        "\n",
        "    if pred_id == 0:\n",
        "      break\n",
        "    if pred_id == end_id:\n",
        "      break\n",
        "    result_token.append(pred_id)\n",
        "    dec_input_id = np.array([[pred_id]])\n",
        "\n",
        "\n",
        "  inv_map = {v:k for k,v in fra_tokenizer.word_index.items()}\n",
        "  words = [inv_map.get(i, '') for i in result_token]\n",
        "\n",
        "  return ' '.join(words)"
      ]
    },
    {
      "cell_type": "code",
      "execution_count": 32,
      "metadata": {
        "colab": {
          "base_uri": "https://localhost:8080/"
        },
        "id": "jrkPn3Cx4of1",
        "outputId": "d239f775-a834-4ac0-861c-0af590a61971"
      },
      "outputs": [
        {
          "output_type": "stream",
          "name": "stdout",
          "text": [
            "My name is english\n",
            "French : je me suis fait\n",
            "\n",
            "English: how are you\n",
            "French : comment vastu\n"
          ]
        }
      ],
      "source": [
        "import numpy as np\n",
        "from tensorflow.keras.preprocessing.sequence import pad_sequences\n",
        "\n",
        "# --- Utility: map id → word\n",
        "index_to_word = {v: k for k, v in fra_tokenizer.word_index.items()}\n",
        "\n",
        "def translate(sentence, max_dec_len=None):\n",
        "    if max_dec_len is None:\n",
        "        max_dec_len = decoder_input.shape[1]\n",
        "\n",
        "    # 1️⃣ Tokenize & pad English sentence\n",
        "    seq = eng_tokenizer.texts_to_sequences([sentence.lower()])\n",
        "    seq = pad_sequences(seq, maxlen=encoder_input.shape[1], padding='post')\n",
        "\n",
        "    # 2️⃣ Encode input\n",
        "    enc_output, h, c = encoder(seq)\n",
        "\n",
        "    # 3️⃣ Initialize decoder with <start> token\n",
        "    start_id = fra_tokenizer.word_index.get('<start>', 1)\n",
        "    end_id = fra_tokenizer.word_index.get('<end>', 2)\n",
        "    dec_input = np.array([[start_id]])\n",
        "    states = (h, c)\n",
        "\n",
        "    # 4️⃣ Greedy decoding loop\n",
        "    result_ids = []\n",
        "    for _ in range(max_dec_len):\n",
        "        # Forward pass through decoder\n",
        "        logits, states, _ = decoder(dec_input, enc_output, states)\n",
        "        # Pick highest-probability token\n",
        "        pred_id = int(tensorflow.argmax(logits[:, -1, :], axis=-1).numpy()[0])\n",
        "\n",
        "        # Stop if <end>\n",
        "        if pred_id == end_id or pred_id == 0:\n",
        "            break\n",
        "\n",
        "        result_ids.append(pred_id)\n",
        "        # Next decoder input is current prediction\n",
        "        dec_input = np.array([[pred_id]])\n",
        "\n",
        "    # 5️⃣ Convert ids → words\n",
        "    words = [index_to_word.get(i, '') for i in result_ids]\n",
        "    translation = ' '.join(words)\n",
        "    return translation.strip()\n",
        "\n",
        "# Example usage\n",
        "print(\"My name is english\")\n",
        "print(\"French :\", translate(\"i hate you\"))\n",
        "\n",
        "print(\"\\nEnglish: how are you\")\n",
        "print(\"French :\", translate(\"how are you\"))\n"
      ]
    },
    {
      "cell_type": "code",
      "execution_count": 33,
      "metadata": {
        "id": "4jHOsfCj4qWR",
        "colab": {
          "base_uri": "https://localhost:8080/"
        },
        "outputId": "3fbb5f47-8f77-4893-aca4-5f973497d447"
      },
      "outputs": [
        {
          "output_type": "stream",
          "name": "stdout",
          "text": [
            "Average BLEU score on 100 samples: 0.1122\n"
          ]
        }
      ],
      "source": [
        "from nltk.translate.bleu_score import sentence_bleu, SmoothingFunction\n",
        "\n",
        "smooth = SmoothingFunction().method1\n",
        "total_bleu = 0\n",
        "n_samples = 100  # evaluate on subset\n",
        "\n",
        "for i in range(n_samples):\n",
        "    eng_sentence = df.eng_texts.iloc[i]\n",
        "    true_fra = df.fra_texts.iloc[i].replace(\"<start>\", \"\").replace(\"<end>\", \"\").strip()\n",
        "    pred_fra = translate(eng_sentence)\n",
        "\n",
        "    reference = [true_fra.split()]\n",
        "    candidate = pred_fra.split()\n",
        "    total_bleu += sentence_bleu(reference, candidate, smoothing_function=smooth)\n",
        "\n",
        "avg_bleu = total_bleu / n_samples\n",
        "print(f\"Average BLEU score on {n_samples} samples: {avg_bleu:.4f}\")\n"
      ]
    },
    {
      "cell_type": "markdown",
      "source": [
        "### Saving Models"
      ],
      "metadata": {
        "id": "-fjpbqTywK8k"
      }
    },
    {
      "cell_type": "code",
      "source": [
        "import os, json, pickle, tensorflow as tf\n",
        "\n",
        "# Directory to save everything\n",
        "os.makedirs(\"translation_model\", exist_ok=True)\n",
        "\n",
        "# 1️⃣ Save full seq2seq model (for quick re-use)\n",
        "model.save(\"translation_model/full_seq2seq_model.keras\",save_format='keras')\n",
        "\n",
        "# 2️⃣ Save encoder and decoder separately (for inference)\n",
        "encoder.save(\"translation_model/encoder.keras\",save_format='keras')\n",
        "decoder.save(\"translation_model/decoder.keras\",save_format='keras')\n",
        "\n",
        "# 3️⃣ Save tokenizers\n",
        "with open(\"translation_model/eng_tokenizer.pkl\", \"wb\") as f:\n",
        "    pickle.dump(eng_tokenizer, f)\n",
        "\n",
        "with open(\"translation_model/fra_tokenizer.pkl\", \"wb\") as f:\n",
        "    pickle.dump(fra_tokenizer, f)\n",
        "\n",
        "# 4️⃣ Save config JSON (hyper-parameters)\n",
        "config = {\n",
        "    \"embedding_dim\": embedding_dim,\n",
        "    \"units\": units,\n",
        "    \"max_eng_len\": int(max_eng_len),\n",
        "    \"max_fra_len\": int(max_fra_len),\n",
        "    \"vocab_input_size\": vocab_input_size,\n",
        "    \"vocab_target_size\": vocab_target_size\n",
        "}\n",
        "\n",
        "with open(\"translation_model/config.json\", \"w\") as f:\n",
        "    json.dump(config, f, indent=4)\n",
        "\n",
        "print(\"✅ All model files saved in ./translation_model/\")\n"
      ],
      "metadata": {
        "colab": {
          "base_uri": "https://localhost:8080/"
        },
        "id": "uqDjUMdhwNL0",
        "outputId": "9dcec34b-d7ed-48ff-f3d6-2f3ee677207f"
      },
      "execution_count": 36,
      "outputs": [
        {
          "output_type": "stream",
          "name": "stderr",
          "text": [
            "WARNING:absl:The `save_format` argument is deprecated in Keras 3. We recommend removing this argument as it can be inferred from the file path. Received: save_format=keras\n",
            "WARNING:absl:The `save_format` argument is deprecated in Keras 3. We recommend removing this argument as it can be inferred from the file path. Received: save_format=keras\n",
            "WARNING:absl:The `save_format` argument is deprecated in Keras 3. We recommend removing this argument as it can be inferred from the file path. Received: save_format=keras\n"
          ]
        },
        {
          "output_type": "stream",
          "name": "stdout",
          "text": [
            "✅ All model files saved in ./translation_model/\n"
          ]
        }
      ]
    },
    {
      "cell_type": "code",
      "source": [
        "import shutil\n",
        "import os\n",
        "\n",
        "# Replace 'my_folder' with the actual name of your folder in Colab\n",
        "folder_to_zip = 'translation_model'\n",
        "zip_filename = f'{folder_to_zip}.zip'\n",
        "\n",
        "# Create the zip archive\n",
        "shutil.make_archive(folder_to_zip, 'zip', folder_to_zip)"
      ],
      "metadata": {
        "colab": {
          "base_uri": "https://localhost:8080/",
          "height": 36
        },
        "id": "WLJ5Hx7HwYTa",
        "outputId": "cdb396a3-c4ad-4724-e2af-548561dd9656"
      },
      "execution_count": 35,
      "outputs": [
        {
          "output_type": "execute_result",
          "data": {
            "text/plain": [
              "'/content/translation_model.zip'"
            ],
            "application/vnd.google.colaboratory.intrinsic+json": {
              "type": "string"
            }
          },
          "metadata": {},
          "execution_count": 35
        }
      ]
    },
    {
      "cell_type": "code",
      "source": [],
      "metadata": {
        "id": "YHxTJkLTwzfX"
      },
      "execution_count": null,
      "outputs": []
    }
  ],
  "metadata": {
    "accelerator": "GPU",
    "colab": {
      "gpuType": "T4",
      "provenance": [],
      "authorship_tag": "ABX9TyPsk5zlbuu7FljK+Z6SLkgc",
      "include_colab_link": true
    },
    "kernelspec": {
      "display_name": "Python 3",
      "name": "python3"
    },
    "language_info": {
      "name": "python"
    }
  },
  "nbformat": 4,
  "nbformat_minor": 0
}